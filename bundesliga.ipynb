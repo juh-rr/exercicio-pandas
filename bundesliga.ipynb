{
 "cells": [
  {
   "cell_type": "code",
   "execution_count": 1,
   "metadata": {},
   "outputs": [
    {
     "name": "stdout",
     "output_type": "stream",
     "text": [
      "initiated datasets repo at: C:\\Users\\juhra\\.pydataset/\n"
     ]
    }
   ],
   "source": [
    "from pydataset import data\n",
    "import pandas as pd"
   ]
  },
  {
   "cell_type": "code",
   "execution_count": 5,
   "metadata": {},
   "outputs": [],
   "source": [
    "df_liga = data('Bundesliga')"
   ]
  },
  {
   "cell_type": "code",
   "execution_count": 21,
   "metadata": {},
   "outputs": [
    {
     "data": {
      "text/html": [
       "<div>\n",
       "<style scoped>\n",
       "    .dataframe tbody tr th:only-of-type {\n",
       "        vertical-align: middle;\n",
       "    }\n",
       "\n",
       "    .dataframe tbody tr th {\n",
       "        vertical-align: top;\n",
       "    }\n",
       "\n",
       "    .dataframe thead th {\n",
       "        text-align: right;\n",
       "    }\n",
       "</style>\n",
       "<table border=\"1\" class=\"dataframe\">\n",
       "  <thead>\n",
       "    <tr style=\"text-align: right;\">\n",
       "      <th></th>\n",
       "      <th>Time da casa</th>\n",
       "      <th>Time visitante</th>\n",
       "      <th>Gols time da casa</th>\n",
       "      <th>Gols time visitante</th>\n",
       "      <th>Rodada</th>\n",
       "      <th>Ano</th>\n",
       "      <th>Data</th>\n",
       "      <th>Total de gols</th>\n",
       "    </tr>\n",
       "  </thead>\n",
       "  <tbody>\n",
       "    <tr>\n",
       "      <th>1</th>\n",
       "      <td>Werder Bremen</td>\n",
       "      <td>Borussia Dortmund</td>\n",
       "      <td>3</td>\n",
       "      <td>2</td>\n",
       "      <td>1</td>\n",
       "      <td>1963</td>\n",
       "      <td>1963-08-24 09:30:00</td>\n",
       "      <td>5</td>\n",
       "    </tr>\n",
       "    <tr>\n",
       "      <th>2</th>\n",
       "      <td>Hertha BSC Berlin</td>\n",
       "      <td>1. FC Nuernberg</td>\n",
       "      <td>1</td>\n",
       "      <td>1</td>\n",
       "      <td>1</td>\n",
       "      <td>1963</td>\n",
       "      <td>1963-08-24 09:30:00</td>\n",
       "      <td>2</td>\n",
       "    </tr>\n",
       "    <tr>\n",
       "      <th>3</th>\n",
       "      <td>Preussen Muenster</td>\n",
       "      <td>Hamburger SV</td>\n",
       "      <td>1</td>\n",
       "      <td>1</td>\n",
       "      <td>1</td>\n",
       "      <td>1963</td>\n",
       "      <td>1963-08-24 09:30:00</td>\n",
       "      <td>2</td>\n",
       "    </tr>\n",
       "    <tr>\n",
       "      <th>4</th>\n",
       "      <td>Eintracht Frankfurt</td>\n",
       "      <td>1. FC Kaiserslautern</td>\n",
       "      <td>1</td>\n",
       "      <td>1</td>\n",
       "      <td>1</td>\n",
       "      <td>1963</td>\n",
       "      <td>1963-08-24 09:30:00</td>\n",
       "      <td>2</td>\n",
       "    </tr>\n",
       "    <tr>\n",
       "      <th>5</th>\n",
       "      <td>Karlsruher SC</td>\n",
       "      <td>Meidericher SV</td>\n",
       "      <td>1</td>\n",
       "      <td>4</td>\n",
       "      <td>1</td>\n",
       "      <td>1963</td>\n",
       "      <td>1963-08-24 09:30:00</td>\n",
       "      <td>5</td>\n",
       "    </tr>\n",
       "    <tr>\n",
       "      <th>...</th>\n",
       "      <td>...</td>\n",
       "      <td>...</td>\n",
       "      <td>...</td>\n",
       "      <td>...</td>\n",
       "      <td>...</td>\n",
       "      <td>...</td>\n",
       "      <td>...</td>\n",
       "      <td>...</td>\n",
       "    </tr>\n",
       "    <tr>\n",
       "      <th>14014</th>\n",
       "      <td>Arminia Bielefeld</td>\n",
       "      <td>Hannover 96</td>\n",
       "      <td>2</td>\n",
       "      <td>2</td>\n",
       "      <td>34</td>\n",
       "      <td>2008</td>\n",
       "      <td>2009-05-23 09:30:00</td>\n",
       "      <td>4</td>\n",
       "    </tr>\n",
       "    <tr>\n",
       "      <th>14015</th>\n",
       "      <td>Karlsruher SC</td>\n",
       "      <td>Hertha BSC Berlin</td>\n",
       "      <td>4</td>\n",
       "      <td>0</td>\n",
       "      <td>34</td>\n",
       "      <td>2008</td>\n",
       "      <td>2009-05-23 09:30:00</td>\n",
       "      <td>4</td>\n",
       "    </tr>\n",
       "    <tr>\n",
       "      <th>14016</th>\n",
       "      <td>1. FC Koeln</td>\n",
       "      <td>VfL Bochum</td>\n",
       "      <td>1</td>\n",
       "      <td>1</td>\n",
       "      <td>34</td>\n",
       "      <td>2008</td>\n",
       "      <td>2009-05-23 09:30:00</td>\n",
       "      <td>2</td>\n",
       "    </tr>\n",
       "    <tr>\n",
       "      <th>14017</th>\n",
       "      <td>Borussia Moenchengladbach</td>\n",
       "      <td>Borussia Dortmund</td>\n",
       "      <td>1</td>\n",
       "      <td>1</td>\n",
       "      <td>34</td>\n",
       "      <td>2008</td>\n",
       "      <td>2009-05-23 09:30:00</td>\n",
       "      <td>2</td>\n",
       "    </tr>\n",
       "    <tr>\n",
       "      <th>14018</th>\n",
       "      <td>Schalke 04</td>\n",
       "      <td>1899 Hoffenheim</td>\n",
       "      <td>2</td>\n",
       "      <td>3</td>\n",
       "      <td>34</td>\n",
       "      <td>2008</td>\n",
       "      <td>2009-05-23 09:30:00</td>\n",
       "      <td>5</td>\n",
       "    </tr>\n",
       "  </tbody>\n",
       "</table>\n",
       "<p>14018 rows × 8 columns</p>\n",
       "</div>"
      ],
      "text/plain": [
       "                    Time da casa        Time visitante  Gols time da casa  \\\n",
       "1                  Werder Bremen     Borussia Dortmund                  3   \n",
       "2              Hertha BSC Berlin       1. FC Nuernberg                  1   \n",
       "3              Preussen Muenster          Hamburger SV                  1   \n",
       "4            Eintracht Frankfurt  1. FC Kaiserslautern                  1   \n",
       "5                  Karlsruher SC        Meidericher SV                  1   \n",
       "...                          ...                   ...                ...   \n",
       "14014          Arminia Bielefeld           Hannover 96                  2   \n",
       "14015              Karlsruher SC     Hertha BSC Berlin                  4   \n",
       "14016                1. FC Koeln            VfL Bochum                  1   \n",
       "14017  Borussia Moenchengladbach     Borussia Dortmund                  1   \n",
       "14018                 Schalke 04       1899 Hoffenheim                  2   \n",
       "\n",
       "       Gols time visitante  Rodada   Ano                 Data  Total de gols  \n",
       "1                        2       1  1963  1963-08-24 09:30:00              5  \n",
       "2                        1       1  1963  1963-08-24 09:30:00              2  \n",
       "3                        1       1  1963  1963-08-24 09:30:00              2  \n",
       "4                        1       1  1963  1963-08-24 09:30:00              2  \n",
       "5                        4       1  1963  1963-08-24 09:30:00              5  \n",
       "...                    ...     ...   ...                  ...            ...  \n",
       "14014                    2      34  2008  2009-05-23 09:30:00              4  \n",
       "14015                    0      34  2008  2009-05-23 09:30:00              4  \n",
       "14016                    1      34  2008  2009-05-23 09:30:00              2  \n",
       "14017                    1      34  2008  2009-05-23 09:30:00              2  \n",
       "14018                    3      34  2008  2009-05-23 09:30:00              5  \n",
       "\n",
       "[14018 rows x 8 columns]"
      ]
     },
     "execution_count": 21,
     "metadata": {},
     "output_type": "execute_result"
    }
   ],
   "source": [
    "df_liga"
   ]
  },
  {
   "cell_type": "markdown",
   "metadata": {},
   "source": [
    "1.Verificar os jogos com maior quantidade de gols na história da Bundesliga\n",
    "2.Informar a data, os times participantes e o placar do jogo"
   ]
  },
  {
   "cell_type": "code",
   "execution_count": 7,
   "metadata": {},
   "outputs": [],
   "source": [
    "df_liga[\"TotalGols\"] = df_liga[\"HomeGoals\"] + df_liga[\"AwayGoals\"]"
   ]
  },
  {
   "cell_type": "code",
   "execution_count": 10,
   "metadata": {},
   "outputs": [
    {
     "data": {
      "text/plain": [
       "Index(['HomeTeam', 'AwayTeam', 'HomeGoals', 'AwayGoals', 'Round', 'Year',\n",
       "       'Date', 'TotalGols'],\n",
       "      dtype='object')"
      ]
     },
     "execution_count": 10,
     "metadata": {},
     "output_type": "execute_result"
    }
   ],
   "source": [
    "df_liga.columns"
   ]
  },
  {
   "cell_type": "code",
   "execution_count": 11,
   "metadata": {},
   "outputs": [],
   "source": [
    "novas_colunas = {'HomeTeam': 'Time da casa', \n",
    "                 'AwayTeam': 'Time visitante',\n",
    "                   'HomeGoals': 'Gols time da casa', \n",
    "                   'AwayGoals': 'Gols time visitante', \n",
    "                   'Round': 'Rodada', \n",
    "                   'Year': 'Ano',\n",
    "                    'Date': 'Data', \n",
    "                    'TotalGols': 'Total de gols'\n",
    "\n",
    "}"
   ]
  },
  {
   "cell_type": "code",
   "execution_count": 14,
   "metadata": {},
   "outputs": [],
   "source": [
    "df_liga = df_liga.rename(columns=novas_colunas)"
   ]
  },
  {
   "cell_type": "code",
   "execution_count": 15,
   "metadata": {},
   "outputs": [
    {
     "data": {
      "text/plain": [
       "12"
      ]
     },
     "execution_count": 15,
     "metadata": {},
     "output_type": "execute_result"
    }
   ],
   "source": [
    "df_liga[\"Total de gols\"].max()"
   ]
  },
  {
   "cell_type": "code",
   "execution_count": 24,
   "metadata": {},
   "outputs": [],
   "source": [
    "jogos_mais_gols = df_liga.loc[df_liga[\"Total de gols\"] == 12]"
   ]
  },
  {
   "cell_type": "code",
   "execution_count": 25,
   "metadata": {},
   "outputs": [
    {
     "data": {
      "text/html": [
       "<div>\n",
       "<style scoped>\n",
       "    .dataframe tbody tr th:only-of-type {\n",
       "        vertical-align: middle;\n",
       "    }\n",
       "\n",
       "    .dataframe tbody tr th {\n",
       "        vertical-align: top;\n",
       "    }\n",
       "\n",
       "    .dataframe thead th {\n",
       "        text-align: right;\n",
       "    }\n",
       "</style>\n",
       "<table border=\"1\" class=\"dataframe\">\n",
       "  <thead>\n",
       "    <tr style=\"text-align: right;\">\n",
       "      <th></th>\n",
       "      <th>Time da casa</th>\n",
       "      <th>Time visitante</th>\n",
       "      <th>Data</th>\n",
       "      <th>Gols time da casa</th>\n",
       "      <th>Gols time visitante</th>\n",
       "    </tr>\n",
       "  </thead>\n",
       "  <tbody>\n",
       "    <tr>\n",
       "      <th>81</th>\n",
       "      <td>Borussia Dortmund</td>\n",
       "      <td>1. FC Kaiserslautern</td>\n",
       "      <td>1963-11-16 09:30:00</td>\n",
       "      <td>9</td>\n",
       "      <td>3</td>\n",
       "    </tr>\n",
       "    <tr>\n",
       "      <th>2456</th>\n",
       "      <td>Bayern Muenchen</td>\n",
       "      <td>Borussia Dortmund</td>\n",
       "      <td>1971-11-27 09:30:00</td>\n",
       "      <td>11</td>\n",
       "      <td>1</td>\n",
       "    </tr>\n",
       "    <tr>\n",
       "      <th>4052</th>\n",
       "      <td>1. FC Koeln</td>\n",
       "      <td>Tennis Borussia Berlin</td>\n",
       "      <td>1977-02-26 09:30:00</td>\n",
       "      <td>8</td>\n",
       "      <td>4</td>\n",
       "    </tr>\n",
       "    <tr>\n",
       "      <th>4457</th>\n",
       "      <td>Borussia Moenchengladbach</td>\n",
       "      <td>Borussia Dortmund</td>\n",
       "      <td>1978-04-29 09:30:00</td>\n",
       "      <td>12</td>\n",
       "      <td>0</td>\n",
       "    </tr>\n",
       "    <tr>\n",
       "      <th>5788</th>\n",
       "      <td>Borussia Dortmund</td>\n",
       "      <td>Arminia Bielefeld</td>\n",
       "      <td>1982-11-06 09:30:00</td>\n",
       "      <td>11</td>\n",
       "      <td>1</td>\n",
       "    </tr>\n",
       "  </tbody>\n",
       "</table>\n",
       "</div>"
      ],
      "text/plain": [
       "                   Time da casa          Time visitante                 Data  \\\n",
       "81            Borussia Dortmund    1. FC Kaiserslautern  1963-11-16 09:30:00   \n",
       "2456            Bayern Muenchen       Borussia Dortmund  1971-11-27 09:30:00   \n",
       "4052                1. FC Koeln  Tennis Borussia Berlin  1977-02-26 09:30:00   \n",
       "4457  Borussia Moenchengladbach       Borussia Dortmund  1978-04-29 09:30:00   \n",
       "5788          Borussia Dortmund       Arminia Bielefeld  1982-11-06 09:30:00   \n",
       "\n",
       "      Gols time da casa  Gols time visitante  \n",
       "81                    9                    3  \n",
       "2456                 11                    1  \n",
       "4052                  8                    4  \n",
       "4457                 12                    0  \n",
       "5788                 11                    1  "
      ]
     },
     "execution_count": 25,
     "metadata": {},
     "output_type": "execute_result"
    }
   ],
   "source": [
    "jogos_mais_gols[[\"Time da casa\", \"Time visitante\", \"Data\", \"Gols time da casa\", \"Gols time visitante\"]]"
   ]
  },
  {
   "cell_type": "code",
   "execution_count": null,
   "metadata": {},
   "outputs": [],
   "source": []
  }
 ],
 "metadata": {
  "kernelspec": {
   "display_name": "Python 3",
   "language": "python",
   "name": "python3"
  },
  "language_info": {
   "codemirror_mode": {
    "name": "ipython",
    "version": 3
   },
   "file_extension": ".py",
   "mimetype": "text/x-python",
   "name": "python",
   "nbconvert_exporter": "python",
   "pygments_lexer": "ipython3",
   "version": "3.12.0"
  }
 },
 "nbformat": 4,
 "nbformat_minor": 2
}
