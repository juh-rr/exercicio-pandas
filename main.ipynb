{
 "cells": [
  {
   "cell_type": "code",
   "execution_count": 3,
   "metadata": {},
   "outputs": [],
   "source": [
    "import numpy as np \n",
    "import pandas as pd"
   ]
  },
  {
   "cell_type": "code",
   "execution_count": 86,
   "metadata": {},
   "outputs": [],
   "source": [
    "df_saude_sono = pd.read_csv(\"saude_do_sono_estilo_vida.csv\")"
   ]
  },
  {
   "cell_type": "code",
   "execution_count": 87,
   "metadata": {},
   "outputs": [
    {
     "data": {
      "text/html": [
       "<div>\n",
       "<style scoped>\n",
       "    .dataframe tbody tr th:only-of-type {\n",
       "        vertical-align: middle;\n",
       "    }\n",
       "\n",
       "    .dataframe tbody tr th {\n",
       "        vertical-align: top;\n",
       "    }\n",
       "\n",
       "    .dataframe thead th {\n",
       "        text-align: right;\n",
       "    }\n",
       "</style>\n",
       "<table border=\"1\" class=\"dataframe\">\n",
       "  <thead>\n",
       "    <tr style=\"text-align: right;\">\n",
       "      <th></th>\n",
       "      <th>ID</th>\n",
       "      <th>Gênero</th>\n",
       "      <th>Idade</th>\n",
       "      <th>Ocupação</th>\n",
       "      <th>Duração do sono</th>\n",
       "      <th>Qualidade do sono</th>\n",
       "      <th>Nível de atividade física</th>\n",
       "      <th>Nível de estresse</th>\n",
       "      <th>Categoria BMI</th>\n",
       "      <th>Pressão sanguíneaaaa</th>\n",
       "      <th>Frequência cardíaca</th>\n",
       "      <th>Passos diários</th>\n",
       "      <th>Distúrbio do sono</th>\n",
       "    </tr>\n",
       "  </thead>\n",
       "  <tbody>\n",
       "    <tr>\n",
       "      <th>0</th>\n",
       "      <td>1</td>\n",
       "      <td>Homem</td>\n",
       "      <td>27</td>\n",
       "      <td>Eng. de Software</td>\n",
       "      <td>6.1</td>\n",
       "      <td>6</td>\n",
       "      <td>42</td>\n",
       "      <td>6</td>\n",
       "      <td>Sobrepeso</td>\n",
       "      <td>126/83</td>\n",
       "      <td>77</td>\n",
       "      <td>4200</td>\n",
       "      <td>Nenhuma</td>\n",
       "    </tr>\n",
       "    <tr>\n",
       "      <th>1</th>\n",
       "      <td>2</td>\n",
       "      <td>Homem</td>\n",
       "      <td>28</td>\n",
       "      <td>Médico(a)</td>\n",
       "      <td>6.2</td>\n",
       "      <td>6</td>\n",
       "      <td>60</td>\n",
       "      <td>8</td>\n",
       "      <td>Normal</td>\n",
       "      <td>125/80</td>\n",
       "      <td>75</td>\n",
       "      <td>10000</td>\n",
       "      <td>Nenhuma</td>\n",
       "    </tr>\n",
       "    <tr>\n",
       "      <th>2</th>\n",
       "      <td>3</td>\n",
       "      <td>Homem</td>\n",
       "      <td>28</td>\n",
       "      <td>Médico(a)</td>\n",
       "      <td>6.2</td>\n",
       "      <td>6</td>\n",
       "      <td>60</td>\n",
       "      <td>8</td>\n",
       "      <td>Normal</td>\n",
       "      <td>125/80</td>\n",
       "      <td>75</td>\n",
       "      <td>10000</td>\n",
       "      <td>Nenhuma</td>\n",
       "    </tr>\n",
       "    <tr>\n",
       "      <th>3</th>\n",
       "      <td>4</td>\n",
       "      <td>Homem</td>\n",
       "      <td>28</td>\n",
       "      <td>Representante de Vendas</td>\n",
       "      <td>5.9</td>\n",
       "      <td>4</td>\n",
       "      <td>30</td>\n",
       "      <td>8</td>\n",
       "      <td>Obesidade</td>\n",
       "      <td>140/90</td>\n",
       "      <td>85</td>\n",
       "      <td>3000</td>\n",
       "      <td>Apneia do sono</td>\n",
       "    </tr>\n",
       "    <tr>\n",
       "      <th>4</th>\n",
       "      <td>5</td>\n",
       "      <td>Homem</td>\n",
       "      <td>28</td>\n",
       "      <td>Representante de Vendas</td>\n",
       "      <td>5.9</td>\n",
       "      <td>4</td>\n",
       "      <td>30</td>\n",
       "      <td>8</td>\n",
       "      <td>Obesidade</td>\n",
       "      <td>140/90</td>\n",
       "      <td>85</td>\n",
       "      <td>3000</td>\n",
       "      <td>Apneia do sono</td>\n",
       "    </tr>\n",
       "  </tbody>\n",
       "</table>\n",
       "</div>"
      ],
      "text/plain": [
       "   ID Gênero  Idade                 Ocupação  Duração do sono  \\\n",
       "0   1  Homem     27         Eng. de Software              6.1   \n",
       "1   2  Homem     28                Médico(a)              6.2   \n",
       "2   3  Homem     28                Médico(a)              6.2   \n",
       "3   4  Homem     28  Representante de Vendas              5.9   \n",
       "4   5  Homem     28  Representante de Vendas              5.9   \n",
       "\n",
       "   Qualidade do sono  Nível de atividade física  Nível de estresse  \\\n",
       "0                  6                         42                  6   \n",
       "1                  6                         60                  8   \n",
       "2                  6                         60                  8   \n",
       "3                  4                         30                  8   \n",
       "4                  4                         30                  8   \n",
       "\n",
       "  Categoria BMI Pressão sanguíneaaaa  Frequência cardíaca  Passos diários  \\\n",
       "0     Sobrepeso               126/83                   77            4200   \n",
       "1        Normal               125/80                   75           10000   \n",
       "2        Normal               125/80                   75           10000   \n",
       "3     Obesidade               140/90                   85            3000   \n",
       "4     Obesidade               140/90                   85            3000   \n",
       "\n",
       "  Distúrbio do sono  \n",
       "0           Nenhuma  \n",
       "1           Nenhuma  \n",
       "2           Nenhuma  \n",
       "3    Apneia do sono  \n",
       "4    Apneia do sono  "
      ]
     },
     "execution_count": 87,
     "metadata": {},
     "output_type": "execute_result"
    }
   ],
   "source": [
    "df_saude_sono.head()"
   ]
  },
  {
   "cell_type": "markdown",
   "metadata": {},
   "source": [
    "1. Alterações:\n",
    "\"ID\" para \"Identificador\"\n",
    "Corrigir nome da coluna de pressão sanguínea\n",
    "\"Ocupação\" para \"Profissão\"\n",
    "\"Categoria BMI\" para \"Categoria IMC\""
   ]
  },
  {
   "cell_type": "code",
   "execution_count": 91,
   "metadata": {},
   "outputs": [],
   "source": [
    "novas_colunas = {\n",
    "    \"ID\" : \"Identificador\",\n",
    "    \"Pressão sanguíneaaaa\": \"Pressão Sanguínea\",\n",
    "    \"Ocupação\": \"Profissão\",\n",
    "    \"Categoria BMI\": \"Categoria IMC\"\n",
    "}"
   ]
  },
  {
   "cell_type": "code",
   "execution_count": 92,
   "metadata": {},
   "outputs": [],
   "source": [
    "df_saude_sono = df_saude_sono.rename(novas_colunas, axis = 1)"
   ]
  },
  {
   "cell_type": "code",
   "execution_count": 93,
   "metadata": {},
   "outputs": [
    {
     "data": {
      "text/html": [
       "<div>\n",
       "<style scoped>\n",
       "    .dataframe tbody tr th:only-of-type {\n",
       "        vertical-align: middle;\n",
       "    }\n",
       "\n",
       "    .dataframe tbody tr th {\n",
       "        vertical-align: top;\n",
       "    }\n",
       "\n",
       "    .dataframe thead th {\n",
       "        text-align: right;\n",
       "    }\n",
       "</style>\n",
       "<table border=\"1\" class=\"dataframe\">\n",
       "  <thead>\n",
       "    <tr style=\"text-align: right;\">\n",
       "      <th></th>\n",
       "      <th>Identificador</th>\n",
       "      <th>Gênero</th>\n",
       "      <th>Idade</th>\n",
       "      <th>Profissão</th>\n",
       "      <th>Duração do sono</th>\n",
       "      <th>Qualidade do sono</th>\n",
       "      <th>Nível de atividade física</th>\n",
       "      <th>Nível de estresse</th>\n",
       "      <th>Categoria IMC</th>\n",
       "      <th>Pressão Sanguínea</th>\n",
       "      <th>Frequência cardíaca</th>\n",
       "      <th>Passos diários</th>\n",
       "      <th>Distúrbio do sono</th>\n",
       "    </tr>\n",
       "  </thead>\n",
       "  <tbody>\n",
       "    <tr>\n",
       "      <th>0</th>\n",
       "      <td>1</td>\n",
       "      <td>Homem</td>\n",
       "      <td>27</td>\n",
       "      <td>Eng. de Software</td>\n",
       "      <td>6.1</td>\n",
       "      <td>6</td>\n",
       "      <td>42</td>\n",
       "      <td>6</td>\n",
       "      <td>Sobrepeso</td>\n",
       "      <td>126/83</td>\n",
       "      <td>77</td>\n",
       "      <td>4200</td>\n",
       "      <td>Nenhuma</td>\n",
       "    </tr>\n",
       "    <tr>\n",
       "      <th>1</th>\n",
       "      <td>2</td>\n",
       "      <td>Homem</td>\n",
       "      <td>28</td>\n",
       "      <td>Médico(a)</td>\n",
       "      <td>6.2</td>\n",
       "      <td>6</td>\n",
       "      <td>60</td>\n",
       "      <td>8</td>\n",
       "      <td>Normal</td>\n",
       "      <td>125/80</td>\n",
       "      <td>75</td>\n",
       "      <td>10000</td>\n",
       "      <td>Nenhuma</td>\n",
       "    </tr>\n",
       "    <tr>\n",
       "      <th>2</th>\n",
       "      <td>3</td>\n",
       "      <td>Homem</td>\n",
       "      <td>28</td>\n",
       "      <td>Médico(a)</td>\n",
       "      <td>6.2</td>\n",
       "      <td>6</td>\n",
       "      <td>60</td>\n",
       "      <td>8</td>\n",
       "      <td>Normal</td>\n",
       "      <td>125/80</td>\n",
       "      <td>75</td>\n",
       "      <td>10000</td>\n",
       "      <td>Nenhuma</td>\n",
       "    </tr>\n",
       "    <tr>\n",
       "      <th>3</th>\n",
       "      <td>4</td>\n",
       "      <td>Homem</td>\n",
       "      <td>28</td>\n",
       "      <td>Representante de Vendas</td>\n",
       "      <td>5.9</td>\n",
       "      <td>4</td>\n",
       "      <td>30</td>\n",
       "      <td>8</td>\n",
       "      <td>Obesidade</td>\n",
       "      <td>140/90</td>\n",
       "      <td>85</td>\n",
       "      <td>3000</td>\n",
       "      <td>Apneia do sono</td>\n",
       "    </tr>\n",
       "    <tr>\n",
       "      <th>4</th>\n",
       "      <td>5</td>\n",
       "      <td>Homem</td>\n",
       "      <td>28</td>\n",
       "      <td>Representante de Vendas</td>\n",
       "      <td>5.9</td>\n",
       "      <td>4</td>\n",
       "      <td>30</td>\n",
       "      <td>8</td>\n",
       "      <td>Obesidade</td>\n",
       "      <td>140/90</td>\n",
       "      <td>85</td>\n",
       "      <td>3000</td>\n",
       "      <td>Apneia do sono</td>\n",
       "    </tr>\n",
       "  </tbody>\n",
       "</table>\n",
       "</div>"
      ],
      "text/plain": [
       "   Identificador Gênero  Idade                Profissão  Duração do sono  \\\n",
       "0              1  Homem     27         Eng. de Software              6.1   \n",
       "1              2  Homem     28                Médico(a)              6.2   \n",
       "2              3  Homem     28                Médico(a)              6.2   \n",
       "3              4  Homem     28  Representante de Vendas              5.9   \n",
       "4              5  Homem     28  Representante de Vendas              5.9   \n",
       "\n",
       "   Qualidade do sono  Nível de atividade física  Nível de estresse  \\\n",
       "0                  6                         42                  6   \n",
       "1                  6                         60                  8   \n",
       "2                  6                         60                  8   \n",
       "3                  4                         30                  8   \n",
       "4                  4                         30                  8   \n",
       "\n",
       "  Categoria IMC Pressão Sanguínea  Frequência cardíaca  Passos diários  \\\n",
       "0     Sobrepeso            126/83                   77            4200   \n",
       "1        Normal            125/80                   75           10000   \n",
       "2        Normal            125/80                   75           10000   \n",
       "3     Obesidade            140/90                   85            3000   \n",
       "4     Obesidade            140/90                   85            3000   \n",
       "\n",
       "  Distúrbio do sono  \n",
       "0           Nenhuma  \n",
       "1           Nenhuma  \n",
       "2           Nenhuma  \n",
       "3    Apneia do sono  \n",
       "4    Apneia do sono  "
      ]
     },
     "execution_count": 93,
     "metadata": {},
     "output_type": "execute_result"
    }
   ],
   "source": [
    "df_saude_sono.head()"
   ]
  },
  {
   "cell_type": "markdown",
   "metadata": {},
   "source": [
    "2. Média, moda e mediana das horas de sono para cada profissão"
   ]
  },
  {
   "cell_type": "code",
   "execution_count": 106,
   "metadata": {},
   "outputs": [],
   "source": [
    "df_sono_profissao = df_saude_sono[[\"Profissão\", \"Duração do sono\"]]"
   ]
  },
  {
   "cell_type": "code",
   "execution_count": 107,
   "metadata": {},
   "outputs": [
    {
     "data": {
      "text/html": [
       "<div>\n",
       "<style scoped>\n",
       "    .dataframe tbody tr th:only-of-type {\n",
       "        vertical-align: middle;\n",
       "    }\n",
       "\n",
       "    .dataframe tbody tr th {\n",
       "        vertical-align: top;\n",
       "    }\n",
       "\n",
       "    .dataframe thead th {\n",
       "        text-align: right;\n",
       "    }\n",
       "</style>\n",
       "<table border=\"1\" class=\"dataframe\">\n",
       "  <thead>\n",
       "    <tr style=\"text-align: right;\">\n",
       "      <th></th>\n",
       "      <th>Duração do sono</th>\n",
       "    </tr>\n",
       "    <tr>\n",
       "      <th>Profissão</th>\n",
       "      <th></th>\n",
       "    </tr>\n",
       "  </thead>\n",
       "  <tbody>\n",
       "    <tr>\n",
       "      <th>Eng. de Software</th>\n",
       "      <td>6.1</td>\n",
       "    </tr>\n",
       "    <tr>\n",
       "      <th>Médico(a)</th>\n",
       "      <td>6.2</td>\n",
       "    </tr>\n",
       "    <tr>\n",
       "      <th>Médico(a)</th>\n",
       "      <td>6.2</td>\n",
       "    </tr>\n",
       "    <tr>\n",
       "      <th>Representante de Vendas</th>\n",
       "      <td>5.9</td>\n",
       "    </tr>\n",
       "    <tr>\n",
       "      <th>Representante de Vendas</th>\n",
       "      <td>5.9</td>\n",
       "    </tr>\n",
       "    <tr>\n",
       "      <th>...</th>\n",
       "      <td>...</td>\n",
       "    </tr>\n",
       "    <tr>\n",
       "      <th>Enfermeiro(a)</th>\n",
       "      <td>8.1</td>\n",
       "    </tr>\n",
       "    <tr>\n",
       "      <th>Enfermeiro(a)</th>\n",
       "      <td>8.1</td>\n",
       "    </tr>\n",
       "    <tr>\n",
       "      <th>Enfermeiro(a)</th>\n",
       "      <td>8.0</td>\n",
       "    </tr>\n",
       "    <tr>\n",
       "      <th>Enfermeiro(a)</th>\n",
       "      <td>8.1</td>\n",
       "    </tr>\n",
       "    <tr>\n",
       "      <th>Enfermeiro(a)</th>\n",
       "      <td>8.1</td>\n",
       "    </tr>\n",
       "  </tbody>\n",
       "</table>\n",
       "<p>373 rows × 1 columns</p>\n",
       "</div>"
      ],
      "text/plain": [
       "                         Duração do sono\n",
       "Profissão                               \n",
       "Eng. de Software                     6.1\n",
       "Médico(a)                            6.2\n",
       "Médico(a)                            6.2\n",
       "Representante de Vendas              5.9\n",
       "Representante de Vendas              5.9\n",
       "...                                  ...\n",
       "Enfermeiro(a)                        8.1\n",
       "Enfermeiro(a)                        8.1\n",
       "Enfermeiro(a)                        8.0\n",
       "Enfermeiro(a)                        8.1\n",
       "Enfermeiro(a)                        8.1\n",
       "\n",
       "[373 rows x 1 columns]"
      ]
     },
     "execution_count": 107,
     "metadata": {},
     "output_type": "execute_result"
    }
   ],
   "source": [
    "df_sono_profissao.set_index(\"Profissão\")"
   ]
  },
  {
   "cell_type": "code",
   "execution_count": 108,
   "metadata": {},
   "outputs": [],
   "source": [
    "df_sono_profissao_stats = df_sono_profissao.groupby(\"Profissão\").mean(numeric_only= True)"
   ]
  },
  {
   "cell_type": "code",
   "execution_count": 115,
   "metadata": {},
   "outputs": [],
   "source": [
    "df_sono_profissao_stats = df_sono_profissao_stats.rename(columns={\"Duração do sono\": \"Média horas de sono\"})"
   ]
  },
  {
   "cell_type": "code",
   "execution_count": 116,
   "metadata": {},
   "outputs": [],
   "source": [
    "df_sono_profissao_stats[\"Mediana horas de sono\"] = df_sono_profissao.groupby(\"Profissão\").median()"
   ]
  },
  {
   "cell_type": "code",
   "execution_count": 122,
   "metadata": {},
   "outputs": [],
   "source": [
    "df_sono_profissao_stats[\"Moda horas de sono\"] = df_sono_profissao.groupby(\"Profissão\").agg(pd.Series.mode)"
   ]
  },
  {
   "cell_type": "code",
   "execution_count": 158,
   "metadata": {},
   "outputs": [
    {
     "data": {
      "text/html": [
       "<div>\n",
       "<style scoped>\n",
       "    .dataframe tbody tr th:only-of-type {\n",
       "        vertical-align: middle;\n",
       "    }\n",
       "\n",
       "    .dataframe tbody tr th {\n",
       "        vertical-align: top;\n",
       "    }\n",
       "\n",
       "    .dataframe thead th {\n",
       "        text-align: right;\n",
       "    }\n",
       "</style>\n",
       "<table border=\"1\" class=\"dataframe\">\n",
       "  <thead>\n",
       "    <tr style=\"text-align: right;\">\n",
       "      <th></th>\n",
       "      <th>Média horas de sono</th>\n",
       "      <th>Mediana horas de sono</th>\n",
       "      <th>Moda horas de sono</th>\n",
       "    </tr>\n",
       "    <tr>\n",
       "      <th>Profissão</th>\n",
       "      <th></th>\n",
       "      <th></th>\n",
       "      <th></th>\n",
       "    </tr>\n",
       "  </thead>\n",
       "  <tbody>\n",
       "    <tr>\n",
       "      <th>Advogado(a)</th>\n",
       "      <td>7.410638</td>\n",
       "      <td>7.3</td>\n",
       "      <td>7.2</td>\n",
       "    </tr>\n",
       "    <tr>\n",
       "      <th>Cientista</th>\n",
       "      <td>6.000000</td>\n",
       "      <td>6.0</td>\n",
       "      <td>[5.8, 6.2]</td>\n",
       "    </tr>\n",
       "    <tr>\n",
       "      <th>Contador(a)</th>\n",
       "      <td>7.113514</td>\n",
       "      <td>7.2</td>\n",
       "      <td>7.2</td>\n",
       "    </tr>\n",
       "    <tr>\n",
       "      <th>Enfermeiro(a)</th>\n",
       "      <td>7.048611</td>\n",
       "      <td>6.5</td>\n",
       "      <td>6.1</td>\n",
       "    </tr>\n",
       "    <tr>\n",
       "      <th>Eng. de Software</th>\n",
       "      <td>6.750000</td>\n",
       "      <td>6.8</td>\n",
       "      <td>7.5</td>\n",
       "    </tr>\n",
       "    <tr>\n",
       "      <th>Engenheiro(a)</th>\n",
       "      <td>7.987302</td>\n",
       "      <td>8.3</td>\n",
       "      <td>8.4</td>\n",
       "    </tr>\n",
       "    <tr>\n",
       "      <th>Gerente</th>\n",
       "      <td>6.900000</td>\n",
       "      <td>6.9</td>\n",
       "      <td>6.9</td>\n",
       "    </tr>\n",
       "    <tr>\n",
       "      <th>Médico(a)</th>\n",
       "      <td>6.970423</td>\n",
       "      <td>7.6</td>\n",
       "      <td>6.0</td>\n",
       "    </tr>\n",
       "    <tr>\n",
       "      <th>Pessoa Vendendora</th>\n",
       "      <td>6.403125</td>\n",
       "      <td>6.4</td>\n",
       "      <td>6.5</td>\n",
       "    </tr>\n",
       "    <tr>\n",
       "      <th>Professor(a)</th>\n",
       "      <td>6.690000</td>\n",
       "      <td>6.6</td>\n",
       "      <td>6.6</td>\n",
       "    </tr>\n",
       "    <tr>\n",
       "      <th>Representante de Vendas</th>\n",
       "      <td>5.900000</td>\n",
       "      <td>5.9</td>\n",
       "      <td>5.9</td>\n",
       "    </tr>\n",
       "  </tbody>\n",
       "</table>\n",
       "</div>"
      ],
      "text/plain": [
       "                         Média horas de sono  Mediana horas de sono  \\\n",
       "Profissão                                                             \n",
       "Advogado(a)                         7.410638                    7.3   \n",
       "Cientista                           6.000000                    6.0   \n",
       "Contador(a)                         7.113514                    7.2   \n",
       "Enfermeiro(a)                       7.048611                    6.5   \n",
       "Eng. de Software                    6.750000                    6.8   \n",
       "Engenheiro(a)                       7.987302                    8.3   \n",
       "Gerente                             6.900000                    6.9   \n",
       "Médico(a)                           6.970423                    7.6   \n",
       "Pessoa Vendendora                   6.403125                    6.4   \n",
       "Professor(a)                        6.690000                    6.6   \n",
       "Representante de Vendas             5.900000                    5.9   \n",
       "\n",
       "                        Moda horas de sono  \n",
       "Profissão                                   \n",
       "Advogado(a)                            7.2  \n",
       "Cientista                       [5.8, 6.2]  \n",
       "Contador(a)                            7.2  \n",
       "Enfermeiro(a)                          6.1  \n",
       "Eng. de Software                       7.5  \n",
       "Engenheiro(a)                          8.4  \n",
       "Gerente                                6.9  \n",
       "Médico(a)                              6.0  \n",
       "Pessoa Vendendora                      6.5  \n",
       "Professor(a)                           6.6  \n",
       "Representante de Vendas                5.9  "
      ]
     },
     "execution_count": 158,
     "metadata": {},
     "output_type": "execute_result"
    }
   ],
   "source": [
    "df_sono_profissao_stats"
   ]
  },
  {
   "cell_type": "markdown",
   "metadata": {},
   "source": [
    "3. Das pessoas que atuam com engenharia de software qual a porcentagem de obesos?"
   ]
  },
  {
   "cell_type": "code",
   "execution_count": 130,
   "metadata": {},
   "outputs": [],
   "source": [
    "obesidade = df_saude_sono[df_saude_sono[\"Profissão\"] ==\"Eng. de Software\"]"
   ]
  },
  {
   "cell_type": "code",
   "execution_count": 138,
   "metadata": {},
   "outputs": [
    {
     "data": {
      "text/plain": [
       "Categoria IMC\n",
       "Peso normal    50.0\n",
       "Sobrepeso      25.0\n",
       "Obesidade      25.0\n",
       "Name: proportion, dtype: float64"
      ]
     },
     "execution_count": 138,
     "metadata": {},
     "output_type": "execute_result"
    }
   ],
   "source": [
    "obesidade[\"Categoria IMC\"].value_counts(normalize=True) * 100"
   ]
  },
  {
   "cell_type": "markdown",
   "metadata": {},
   "source": [
    "4. De acordo com os dados, advogar ou ser representante de vendas faz você dormir menos? (Use o método ‘isin’, considere a média)"
   ]
  },
  {
   "cell_type": "code",
   "execution_count": 154,
   "metadata": {},
   "outputs": [
    {
     "data": {
      "text/plain": [
       "6.833964731364531"
      ]
     },
     "execution_count": 154,
     "metadata": {},
     "output_type": "execute_result"
    }
   ],
   "source": [
    "df_sono_profissao_stats[\"Média horas de sono\"].mean()"
   ]
  },
  {
   "cell_type": "code",
   "execution_count": 157,
   "metadata": {},
   "outputs": [
    {
     "data": {
      "text/html": [
       "<div>\n",
       "<style scoped>\n",
       "    .dataframe tbody tr th:only-of-type {\n",
       "        vertical-align: middle;\n",
       "    }\n",
       "\n",
       "    .dataframe tbody tr th {\n",
       "        vertical-align: top;\n",
       "    }\n",
       "\n",
       "    .dataframe thead th {\n",
       "        text-align: right;\n",
       "    }\n",
       "</style>\n",
       "<table border=\"1\" class=\"dataframe\">\n",
       "  <thead>\n",
       "    <tr style=\"text-align: right;\">\n",
       "      <th></th>\n",
       "      <th>Média horas de sono</th>\n",
       "      <th>Mediana horas de sono</th>\n",
       "      <th>Moda horas de sono</th>\n",
       "    </tr>\n",
       "    <tr>\n",
       "      <th>Profissão</th>\n",
       "      <th></th>\n",
       "      <th></th>\n",
       "      <th></th>\n",
       "    </tr>\n",
       "  </thead>\n",
       "  <tbody>\n",
       "    <tr>\n",
       "      <th>Advogado(a)</th>\n",
       "      <td>7.410638</td>\n",
       "      <td>7.3</td>\n",
       "      <td>7.2</td>\n",
       "    </tr>\n",
       "    <tr>\n",
       "      <th>Representante de Vendas</th>\n",
       "      <td>5.900000</td>\n",
       "      <td>5.9</td>\n",
       "      <td>5.9</td>\n",
       "    </tr>\n",
       "  </tbody>\n",
       "</table>\n",
       "</div>"
      ],
      "text/plain": [
       "                         Média horas de sono  Mediana horas de sono  \\\n",
       "Profissão                                                             \n",
       "Advogado(a)                         7.410638                    7.3   \n",
       "Representante de Vendas             5.900000                    5.9   \n",
       "\n",
       "                        Moda horas de sono  \n",
       "Profissão                                   \n",
       "Advogado(a)                            7.2  \n",
       "Representante de Vendas                5.9  "
      ]
     },
     "execution_count": 157,
     "metadata": {},
     "output_type": "execute_result"
    }
   ],
   "source": [
    "df_sono_profissao_stats.loc[[\"Advogado(a)\", \"Representante de Vendas\"]]\n",
    "#Resposta: Sim para Representade de vendas, não para advogado"
   ]
  },
  {
   "cell_type": "markdown",
   "metadata": {},
   "source": [
    "5. Entre quem fez enfermagem e quem fez medicina, quem tem menos horas de sono? (Use o método ‘isin’, considere a média)"
   ]
  },
  {
   "cell_type": "code",
   "execution_count": 160,
   "metadata": {},
   "outputs": [
    {
     "data": {
      "text/html": [
       "<div>\n",
       "<style scoped>\n",
       "    .dataframe tbody tr th:only-of-type {\n",
       "        vertical-align: middle;\n",
       "    }\n",
       "\n",
       "    .dataframe tbody tr th {\n",
       "        vertical-align: top;\n",
       "    }\n",
       "\n",
       "    .dataframe thead th {\n",
       "        text-align: right;\n",
       "    }\n",
       "</style>\n",
       "<table border=\"1\" class=\"dataframe\">\n",
       "  <thead>\n",
       "    <tr style=\"text-align: right;\">\n",
       "      <th></th>\n",
       "      <th>Média horas de sono</th>\n",
       "      <th>Mediana horas de sono</th>\n",
       "      <th>Moda horas de sono</th>\n",
       "    </tr>\n",
       "    <tr>\n",
       "      <th>Profissão</th>\n",
       "      <th></th>\n",
       "      <th></th>\n",
       "      <th></th>\n",
       "    </tr>\n",
       "  </thead>\n",
       "  <tbody>\n",
       "    <tr>\n",
       "      <th>Enfermeiro(a)</th>\n",
       "      <td>7.048611</td>\n",
       "      <td>6.5</td>\n",
       "      <td>6.1</td>\n",
       "    </tr>\n",
       "    <tr>\n",
       "      <th>Médico(a)</th>\n",
       "      <td>6.970423</td>\n",
       "      <td>7.6</td>\n",
       "      <td>6.0</td>\n",
       "    </tr>\n",
       "  </tbody>\n",
       "</table>\n",
       "</div>"
      ],
      "text/plain": [
       "               Média horas de sono  Mediana horas de sono Moda horas de sono\n",
       "Profissão                                                                   \n",
       "Enfermeiro(a)             7.048611                    6.5                6.1\n",
       "Médico(a)                 6.970423                    7.6                6.0"
      ]
     },
     "execution_count": 160,
     "metadata": {},
     "output_type": "execute_result"
    }
   ],
   "source": [
    "df_sono_profissao_stats.loc[[\"Enfermeiro(a)\", \"Médico(a)\"]]\n",
    "#Resposta: Médico"
   ]
  },
  {
   "cell_type": "markdown",
   "metadata": {},
   "source": [
    "6.Faça um subconjunto com as colunas Identificador, Gênero, Idade, Pressão sanguínea e Frequência cardíaca"
   ]
  },
  {
   "cell_type": "code",
   "execution_count": 166,
   "metadata": {},
   "outputs": [],
   "source": [
    "subconjunto = df_saude_sono[[\"Identificador\", \"Gênero\", \"Idade\", \"Pressão Sanguínea\", \"Frequência cardíaca\"]]"
   ]
  },
  {
   "cell_type": "markdown",
   "metadata": {},
   "source": [
    "7. Descubra qual a profissão menos frequente no conjunto. (Use value_counts)"
   ]
  },
  {
   "cell_type": "code",
   "execution_count": 175,
   "metadata": {},
   "outputs": [
    {
     "data": {
      "text/plain": [
       "Profissão\n",
       "Gerente                     1\n",
       "Representante de Vendas     2\n",
       "Eng. de Software            4\n",
       "Cientista                   4\n",
       "Pessoa Vendendora          32\n",
       "Contador(a)                37\n",
       "Professor(a)               40\n",
       "Advogado(a)                47\n",
       "Engenheiro(a)              63\n",
       "Médico(a)                  71\n",
       "Enfermeiro(a)              72\n",
       "Name: count, dtype: int64"
      ]
     },
     "execution_count": 175,
     "metadata": {},
     "output_type": "execute_result"
    }
   ],
   "source": [
    "df_saude_sono[\"Profissão\"].value_counts(ascending=True)"
   ]
  },
  {
   "cell_type": "markdown",
   "metadata": {},
   "source": [
    "8.Quem tem maior pressão sanguínea média, homens ou mulheres? (Considere a média)"
   ]
  },
  {
   "cell_type": "code",
   "execution_count": 187,
   "metadata": {},
   "outputs": [],
   "source": [
    "media_pressao_genero = df_saude_sono[[\"Gênero\", \"Pressão Sanguínea\"]]"
   ]
  },
  {
   "cell_type": "code",
   "execution_count": 201,
   "metadata": {},
   "outputs": [
    {
     "data": {
      "text/html": [
       "<div>\n",
       "<style scoped>\n",
       "    .dataframe tbody tr th:only-of-type {\n",
       "        vertical-align: middle;\n",
       "    }\n",
       "\n",
       "    .dataframe tbody tr th {\n",
       "        vertical-align: top;\n",
       "    }\n",
       "\n",
       "    .dataframe thead th {\n",
       "        text-align: right;\n",
       "    }\n",
       "</style>\n",
       "<table border=\"1\" class=\"dataframe\">\n",
       "  <thead>\n",
       "    <tr style=\"text-align: right;\">\n",
       "      <th></th>\n",
       "      <th>Pressão Sanguínea</th>\n",
       "      <th>Tensão sistólica</th>\n",
       "      <th>Tensão diastólica</th>\n",
       "    </tr>\n",
       "    <tr>\n",
       "      <th>Gênero</th>\n",
       "      <th></th>\n",
       "      <th></th>\n",
       "      <th></th>\n",
       "    </tr>\n",
       "  </thead>\n",
       "  <tbody>\n",
       "    <tr>\n",
       "      <th>Homem</th>\n",
       "      <td>126/83</td>\n",
       "      <td>126</td>\n",
       "      <td>83</td>\n",
       "    </tr>\n",
       "    <tr>\n",
       "      <th>Homem</th>\n",
       "      <td>125/80</td>\n",
       "      <td>125</td>\n",
       "      <td>80</td>\n",
       "    </tr>\n",
       "    <tr>\n",
       "      <th>Homem</th>\n",
       "      <td>125/80</td>\n",
       "      <td>125</td>\n",
       "      <td>80</td>\n",
       "    </tr>\n",
       "    <tr>\n",
       "      <th>Homem</th>\n",
       "      <td>140/90</td>\n",
       "      <td>140</td>\n",
       "      <td>90</td>\n",
       "    </tr>\n",
       "    <tr>\n",
       "      <th>Homem</th>\n",
       "      <td>140/90</td>\n",
       "      <td>140</td>\n",
       "      <td>90</td>\n",
       "    </tr>\n",
       "    <tr>\n",
       "      <th>...</th>\n",
       "      <td>...</td>\n",
       "      <td>...</td>\n",
       "      <td>...</td>\n",
       "    </tr>\n",
       "    <tr>\n",
       "      <th>Mulher</th>\n",
       "      <td>140/95</td>\n",
       "      <td>140</td>\n",
       "      <td>95</td>\n",
       "    </tr>\n",
       "    <tr>\n",
       "      <th>Mulher</th>\n",
       "      <td>140/95</td>\n",
       "      <td>140</td>\n",
       "      <td>95</td>\n",
       "    </tr>\n",
       "    <tr>\n",
       "      <th>Mulher</th>\n",
       "      <td>140/95</td>\n",
       "      <td>140</td>\n",
       "      <td>95</td>\n",
       "    </tr>\n",
       "    <tr>\n",
       "      <th>Mulher</th>\n",
       "      <td>140/95</td>\n",
       "      <td>140</td>\n",
       "      <td>95</td>\n",
       "    </tr>\n",
       "    <tr>\n",
       "      <th>Mulher</th>\n",
       "      <td>140/95</td>\n",
       "      <td>140</td>\n",
       "      <td>95</td>\n",
       "    </tr>\n",
       "  </tbody>\n",
       "</table>\n",
       "<p>373 rows × 3 columns</p>\n",
       "</div>"
      ],
      "text/plain": [
       "       Pressão Sanguínea Tensão sistólica Tensão diastólica\n",
       "Gênero                                                     \n",
       "Homem             126/83              126                83\n",
       "Homem             125/80              125                80\n",
       "Homem             125/80              125                80\n",
       "Homem             140/90              140                90\n",
       "Homem             140/90              140                90\n",
       "...                  ...              ...               ...\n",
       "Mulher            140/95              140                95\n",
       "Mulher            140/95              140                95\n",
       "Mulher            140/95              140                95\n",
       "Mulher            140/95              140                95\n",
       "Mulher            140/95              140                95\n",
       "\n",
       "[373 rows x 3 columns]"
      ]
     },
     "execution_count": 201,
     "metadata": {},
     "output_type": "execute_result"
    }
   ],
   "source": [
    "media_pressao_genero.set_index(\"Gênero\")"
   ]
  },
  {
   "cell_type": "code",
   "execution_count": 195,
   "metadata": {},
   "outputs": [
    {
     "name": "stderr",
     "output_type": "stream",
     "text": [
      "C:\\Users\\juhra\\AppData\\Local\\Temp\\ipykernel_7120\\3612677341.py:1: SettingWithCopyWarning: \n",
      "A value is trying to be set on a copy of a slice from a DataFrame.\n",
      "Try using .loc[row_indexer,col_indexer] = value instead\n",
      "\n",
      "See the caveats in the documentation: https://pandas.pydata.org/pandas-docs/stable/user_guide/indexing.html#returning-a-view-versus-a-copy\n",
      "  media_pressao_genero[[\"Tensão sistólica\", \"Tensão diastólica\"]] = media_pressao_genero[\"Pressão Sanguínea\"].str.split(\"/\", expand=True)\n",
      "C:\\Users\\juhra\\AppData\\Local\\Temp\\ipykernel_7120\\3612677341.py:1: SettingWithCopyWarning: \n",
      "A value is trying to be set on a copy of a slice from a DataFrame.\n",
      "Try using .loc[row_indexer,col_indexer] = value instead\n",
      "\n",
      "See the caveats in the documentation: https://pandas.pydata.org/pandas-docs/stable/user_guide/indexing.html#returning-a-view-versus-a-copy\n",
      "  media_pressao_genero[[\"Tensão sistólica\", \"Tensão diastólica\"]] = media_pressao_genero[\"Pressão Sanguínea\"].str.split(\"/\", expand=True)\n"
     ]
    }
   ],
   "source": [
    "media_pressao_genero[[\"Tensão sistólica\", \"Tensão diastólica\"]] = media_pressao_genero[\"Pressão Sanguínea\"].str.split(\"/\", expand=True)"
   ]
  },
  {
   "cell_type": "code",
   "execution_count": 206,
   "metadata": {},
   "outputs": [
    {
     "name": "stderr",
     "output_type": "stream",
     "text": [
      "C:\\Users\\juhra\\AppData\\Local\\Temp\\ipykernel_7120\\2081814149.py:1: SettingWithCopyWarning: \n",
      "A value is trying to be set on a copy of a slice from a DataFrame.\n",
      "Try using .loc[row_indexer,col_indexer] = value instead\n",
      "\n",
      "See the caveats in the documentation: https://pandas.pydata.org/pandas-docs/stable/user_guide/indexing.html#returning-a-view-versus-a-copy\n",
      "  media_pressao_genero[[\"Tensão sistólica\", \"Tensão diastólica\"]] = media_pressao_genero[[\"Tensão sistólica\", \"Tensão diastólica\"]].astype(int)\n"
     ]
    }
   ],
   "source": [
    "media_pressao_genero[[\"Tensão sistólica\", \"Tensão diastólica\"]] = media_pressao_genero[[\"Tensão sistólica\", \"Tensão diastólica\"]].astype(int)"
   ]
  },
  {
   "cell_type": "code",
   "execution_count": 208,
   "metadata": {},
   "outputs": [
    {
     "data": {
      "text/html": [
       "<div>\n",
       "<style scoped>\n",
       "    .dataframe tbody tr th:only-of-type {\n",
       "        vertical-align: middle;\n",
       "    }\n",
       "\n",
       "    .dataframe tbody tr th {\n",
       "        vertical-align: top;\n",
       "    }\n",
       "\n",
       "    .dataframe thead th {\n",
       "        text-align: right;\n",
       "    }\n",
       "</style>\n",
       "<table border=\"1\" class=\"dataframe\">\n",
       "  <thead>\n",
       "    <tr style=\"text-align: right;\">\n",
       "      <th></th>\n",
       "      <th>Tensão sistólica</th>\n",
       "      <th>Tensão diastólica</th>\n",
       "    </tr>\n",
       "    <tr>\n",
       "      <th>Gênero</th>\n",
       "      <th></th>\n",
       "      <th></th>\n",
       "    </tr>\n",
       "  </thead>\n",
       "  <tbody>\n",
       "    <tr>\n",
       "      <th>Homem</th>\n",
       "      <td>126.941799</td>\n",
       "      <td>83.015873</td>\n",
       "    </tr>\n",
       "    <tr>\n",
       "      <th>Mulher</th>\n",
       "      <td>130.146739</td>\n",
       "      <td>86.271739</td>\n",
       "    </tr>\n",
       "  </tbody>\n",
       "</table>\n",
       "</div>"
      ],
      "text/plain": [
       "        Tensão sistólica  Tensão diastólica\n",
       "Gênero                                     \n",
       "Homem         126.941799          83.015873\n",
       "Mulher        130.146739          86.271739"
      ]
     },
     "execution_count": 208,
     "metadata": {},
     "output_type": "execute_result"
    }
   ],
   "source": [
    "media_pressao_genero.groupby(\"Gênero\").mean([\"Tensão sistólica\", \"Tensão diastólica\"])\n",
    "#Resposta: mulheres"
   ]
  },
  {
   "cell_type": "markdown",
   "metadata": {},
   "source": [
    "9.É predominante entre os participantes dormir 8 horas por dia\n",
    "(considere usar Moda como medida)?"
   ]
  },
  {
   "cell_type": "code",
   "execution_count": 211,
   "metadata": {},
   "outputs": [
    {
     "data": {
      "text/plain": [
       "0    7.2\n",
       "Name: Duração do sono, dtype: float64"
      ]
     },
     "execution_count": 211,
     "metadata": {},
     "output_type": "execute_result"
    }
   ],
   "source": [
    "df_saude_sono[\"Duração do sono\"].mode()"
   ]
  },
  {
   "cell_type": "markdown",
   "metadata": {},
   "source": [
    "10. Pessoas com frequências cardíacas acima de 70 dão mais passos que pessoas com frequência cardíaca menor ou igual a 70? (Use a média)"
   ]
  },
  {
   "cell_type": "code",
   "execution_count": 218,
   "metadata": {},
   "outputs": [],
   "source": [
    "frequencia_menos_70 = df_saude_sono[df_saude_sono[\"Frequência cardíaca\"] <= 70]\n",
    "frequencia_mais_70 = df_saude_sono[df_saude_sono[\"Frequência cardíaca\"] > 70]"
   ]
  },
  {
   "cell_type": "code",
   "execution_count": 221,
   "metadata": {},
   "outputs": [
    {
     "data": {
      "text/plain": [
       "7006.666666666667"
      ]
     },
     "execution_count": 221,
     "metadata": {},
     "output_type": "execute_result"
    }
   ],
   "source": [
    "frequencia_menos_70[\"Passos diários\"].mean()"
   ]
  },
  {
   "cell_type": "code",
   "execution_count": 222,
   "metadata": {},
   "outputs": [
    {
     "data": {
      "text/plain": [
       "6472.932330827068"
      ]
     },
     "execution_count": 222,
     "metadata": {},
     "output_type": "execute_result"
    }
   ],
   "source": [
    "frequencia_mais_70[\"Passos diários\"].mean()\n",
    "#Resposta: Falso."
   ]
  },
  {
   "cell_type": "code",
   "execution_count": null,
   "metadata": {},
   "outputs": [],
   "source": []
  }
 ],
 "metadata": {
  "kernelspec": {
   "display_name": "Python 3",
   "language": "python",
   "name": "python3"
  },
  "language_info": {
   "codemirror_mode": {
    "name": "ipython",
    "version": 3
   },
   "file_extension": ".py",
   "mimetype": "text/x-python",
   "name": "python",
   "nbconvert_exporter": "python",
   "pygments_lexer": "ipython3",
   "version": "3.12.0"
  }
 },
 "nbformat": 4,
 "nbformat_minor": 2
}
